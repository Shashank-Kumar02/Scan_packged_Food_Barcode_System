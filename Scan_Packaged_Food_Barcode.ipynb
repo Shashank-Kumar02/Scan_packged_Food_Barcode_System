{
  "nbformat": 4,
  "nbformat_minor": 0,
  "metadata": {
    "colab": {
      "provenance": []
    },
    "kernelspec": {
      "name": "python3",
      "display_name": "Python 3"
    },
    "language_info": {
      "name": "python"
    }
  },
  "cells": [
    {
      "cell_type": "markdown",
      "source": [
        "Import Libraries and Set Up"
      ],
      "metadata": {
        "id": "-9ZurD5f1BJ9"
      }
    },
    {
      "cell_type": "code",
      "source": [
        "import cv2\n",
        "from pyzbar.pyzbar import decode\n",
        "from google.colab import files\n",
        "from IPython.display import display, Image\n",
        "import requests\n",
        "import json\n",
        "\n",
        "# Function to display the uploaded image\n",
        "def display_uploaded_image(uploaded_file):\n",
        "    display(Image(uploaded_file['content']))"
      ],
      "metadata": {
        "id": "4D_jiY4s4MYD"
      },
      "execution_count": null,
      "outputs": []
    },
    {
      "cell_type": "markdown",
      "source": [
        "Upload and Process the Image"
      ],
      "metadata": {
        "id": "Nd4YMzoc1FUJ"
      }
    },
    {
      "cell_type": "code",
      "source": [
        "# Upload image containing a barcode\n",
        "uploaded = files.upload()\n",
        "\n",
        "# Get the first uploaded file\n",
        "for filename in uploaded.keys():\n",
        "    image_path = filename\n",
        "    display_uploaded_image({'content': uploaded[filename]})\n",
        "\n",
        "# Read and decode the barcode from the image\n",
        "def decode_barcode(image_path):\n",
        "    img = cv2.imread(image_path)\n",
        "    if img is None:\n",
        "        print(\"Error: Could not load image.\")\n",
        "        return None\n",
        "    decoded_objects = decode(img)\n",
        "    if decoded_objects:\n",
        "        for obj in decoded_objects:\n",
        "            barcode_data = obj.data.decode('utf-8')\n",
        "            print(f\"Decoded Barcode: {barcode_data}\")\n",
        "            return barcode_data\n",
        "    else:\n",
        "        print(\"No barcode detected in the image.\")\n",
        "        return None\n",
        "\n",
        "barcode = decode_barcode(image_path)"
      ],
      "metadata": {
        "colab": {
          "base_uri": "https://localhost:8080/",
          "height": 280
        },
        "id": "QbReCKCd4sRl",
        "outputId": "8142e2db-f7a6-4365-8da2-05fbbf8d4700"
      },
      "execution_count": null,
      "outputs": [
        {
          "output_type": "display_data",
          "data": {
            "text/plain": [
              "<IPython.core.display.HTML object>"
            ],
            "text/html": [
              "\n",
              "     <input type=\"file\" id=\"files-bc3a247b-12f5-4200-b4c5-f9f671da39b2\" name=\"files[]\" multiple disabled\n",
              "        style=\"border:none\" />\n",
              "     <output id=\"result-bc3a247b-12f5-4200-b4c5-f9f671da39b2\">\n",
              "      Upload widget is only available when the cell has been executed in the\n",
              "      current browser session. Please rerun this cell to enable.\n",
              "      </output>\n",
              "      <script>// Copyright 2017 Google LLC\n",
              "//\n",
              "// Licensed under the Apache License, Version 2.0 (the \"License\");\n",
              "// you may not use this file except in compliance with the License.\n",
              "// You may obtain a copy of the License at\n",
              "//\n",
              "//      http://www.apache.org/licenses/LICENSE-2.0\n",
              "//\n",
              "// Unless required by applicable law or agreed to in writing, software\n",
              "// distributed under the License is distributed on an \"AS IS\" BASIS,\n",
              "// WITHOUT WARRANTIES OR CONDITIONS OF ANY KIND, either express or implied.\n",
              "// See the License for the specific language governing permissions and\n",
              "// limitations under the License.\n",
              "\n",
              "/**\n",
              " * @fileoverview Helpers for google.colab Python module.\n",
              " */\n",
              "(function(scope) {\n",
              "function span(text, styleAttributes = {}) {\n",
              "  const element = document.createElement('span');\n",
              "  element.textContent = text;\n",
              "  for (const key of Object.keys(styleAttributes)) {\n",
              "    element.style[key] = styleAttributes[key];\n",
              "  }\n",
              "  return element;\n",
              "}\n",
              "\n",
              "// Max number of bytes which will be uploaded at a time.\n",
              "const MAX_PAYLOAD_SIZE = 100 * 1024;\n",
              "\n",
              "function _uploadFiles(inputId, outputId) {\n",
              "  const steps = uploadFilesStep(inputId, outputId);\n",
              "  const outputElement = document.getElementById(outputId);\n",
              "  // Cache steps on the outputElement to make it available for the next call\n",
              "  // to uploadFilesContinue from Python.\n",
              "  outputElement.steps = steps;\n",
              "\n",
              "  return _uploadFilesContinue(outputId);\n",
              "}\n",
              "\n",
              "// This is roughly an async generator (not supported in the browser yet),\n",
              "// where there are multiple asynchronous steps and the Python side is going\n",
              "// to poll for completion of each step.\n",
              "// This uses a Promise to block the python side on completion of each step,\n",
              "// then passes the result of the previous step as the input to the next step.\n",
              "function _uploadFilesContinue(outputId) {\n",
              "  const outputElement = document.getElementById(outputId);\n",
              "  const steps = outputElement.steps;\n",
              "\n",
              "  const next = steps.next(outputElement.lastPromiseValue);\n",
              "  return Promise.resolve(next.value.promise).then((value) => {\n",
              "    // Cache the last promise value to make it available to the next\n",
              "    // step of the generator.\n",
              "    outputElement.lastPromiseValue = value;\n",
              "    return next.value.response;\n",
              "  });\n",
              "}\n",
              "\n",
              "/**\n",
              " * Generator function which is called between each async step of the upload\n",
              " * process.\n",
              " * @param {string} inputId Element ID of the input file picker element.\n",
              " * @param {string} outputId Element ID of the output display.\n",
              " * @return {!Iterable<!Object>} Iterable of next steps.\n",
              " */\n",
              "function* uploadFilesStep(inputId, outputId) {\n",
              "  const inputElement = document.getElementById(inputId);\n",
              "  inputElement.disabled = false;\n",
              "\n",
              "  const outputElement = document.getElementById(outputId);\n",
              "  outputElement.innerHTML = '';\n",
              "\n",
              "  const pickedPromise = new Promise((resolve) => {\n",
              "    inputElement.addEventListener('change', (e) => {\n",
              "      resolve(e.target.files);\n",
              "    });\n",
              "  });\n",
              "\n",
              "  const cancel = document.createElement('button');\n",
              "  inputElement.parentElement.appendChild(cancel);\n",
              "  cancel.textContent = 'Cancel upload';\n",
              "  const cancelPromise = new Promise((resolve) => {\n",
              "    cancel.onclick = () => {\n",
              "      resolve(null);\n",
              "    };\n",
              "  });\n",
              "\n",
              "  // Wait for the user to pick the files.\n",
              "  const files = yield {\n",
              "    promise: Promise.race([pickedPromise, cancelPromise]),\n",
              "    response: {\n",
              "      action: 'starting',\n",
              "    }\n",
              "  };\n",
              "\n",
              "  cancel.remove();\n",
              "\n",
              "  // Disable the input element since further picks are not allowed.\n",
              "  inputElement.disabled = true;\n",
              "\n",
              "  if (!files) {\n",
              "    return {\n",
              "      response: {\n",
              "        action: 'complete',\n",
              "      }\n",
              "    };\n",
              "  }\n",
              "\n",
              "  for (const file of files) {\n",
              "    const li = document.createElement('li');\n",
              "    li.append(span(file.name, {fontWeight: 'bold'}));\n",
              "    li.append(span(\n",
              "        `(${file.type || 'n/a'}) - ${file.size} bytes, ` +\n",
              "        `last modified: ${\n",
              "            file.lastModifiedDate ? file.lastModifiedDate.toLocaleDateString() :\n",
              "                                    'n/a'} - `));\n",
              "    const percent = span('0% done');\n",
              "    li.appendChild(percent);\n",
              "\n",
              "    outputElement.appendChild(li);\n",
              "\n",
              "    const fileDataPromise = new Promise((resolve) => {\n",
              "      const reader = new FileReader();\n",
              "      reader.onload = (e) => {\n",
              "        resolve(e.target.result);\n",
              "      };\n",
              "      reader.readAsArrayBuffer(file);\n",
              "    });\n",
              "    // Wait for the data to be ready.\n",
              "    let fileData = yield {\n",
              "      promise: fileDataPromise,\n",
              "      response: {\n",
              "        action: 'continue',\n",
              "      }\n",
              "    };\n",
              "\n",
              "    // Use a chunked sending to avoid message size limits. See b/62115660.\n",
              "    let position = 0;\n",
              "    do {\n",
              "      const length = Math.min(fileData.byteLength - position, MAX_PAYLOAD_SIZE);\n",
              "      const chunk = new Uint8Array(fileData, position, length);\n",
              "      position += length;\n",
              "\n",
              "      const base64 = btoa(String.fromCharCode.apply(null, chunk));\n",
              "      yield {\n",
              "        response: {\n",
              "          action: 'append',\n",
              "          file: file.name,\n",
              "          data: base64,\n",
              "        },\n",
              "      };\n",
              "\n",
              "      let percentDone = fileData.byteLength === 0 ?\n",
              "          100 :\n",
              "          Math.round((position / fileData.byteLength) * 100);\n",
              "      percent.textContent = `${percentDone}% done`;\n",
              "\n",
              "    } while (position < fileData.byteLength);\n",
              "  }\n",
              "\n",
              "  // All done.\n",
              "  yield {\n",
              "    response: {\n",
              "      action: 'complete',\n",
              "    }\n",
              "  };\n",
              "}\n",
              "\n",
              "scope.google = scope.google || {};\n",
              "scope.google.colab = scope.google.colab || {};\n",
              "scope.google.colab._files = {\n",
              "  _uploadFiles,\n",
              "  _uploadFilesContinue,\n",
              "};\n",
              "})(self);\n",
              "</script> "
            ]
          },
          "metadata": {}
        },
        {
          "output_type": "stream",
          "name": "stdout",
          "text": [
            "Saving barcodeImage.png to barcodeImage.png\n"
          ]
        },
        {
          "output_type": "display_data",
          "data": {
            "image/png": "[encoded data removed]",
            "text/plain": [
              "<IPython.core.display.Image object>"
            ]
          },
          "metadata": {}
        },
        {
          "output_type": "stream",
          "name": "stdout",
          "text": [
            "Decoded Barcode: 8901058851298\n"
          ]
        }
      ]
    },
    {
      "cell_type": "markdown",
      "source": [
        "Fetch Data, Extract Ingredients, and Evaluate Health"
      ],
      "metadata": {
        "id": "6ulgaujT1I14"
      }
    },
    {
      "cell_type": "code",
      "source": [
        "# Define a simple health evaluation dictionary\n",
        "health_criteria = {\n",
        "    'unhealthy': ['sugar', 'salt', 'sodium', 'artificial flavor', 'preservative', 'trans fat', 'hydrogenated oil'],\n",
        "    'allergens': ['gluten', 'peanuts', 'nuts', 'dairy', 'soy', 'egg'],\n",
        "    'healthy': ['vitamin', 'fiber', 'protein', 'omega-3', 'antioxidant']\n",
        "}\n",
        "\n",
        "def evaluate_health(ingredients_text):\n",
        "    if not ingredients_text or ingredients_text == 'No ingredients available':\n",
        "        return \"Health evaluation unavailable due to missing ingredients data.\"\n",
        "\n",
        "    ingredients_list = ingredients_text.lower().split(', ')\n",
        "    health_status = []\n",
        "\n",
        "    for ingredient in ingredients_list:\n",
        "        if any(unhealthy in ingredient for unhealthy in health_criteria['unhealthy']):\n",
        "            health_status.append(f\"{ingredient} may be unhealthy (e.g., high sugar, salt, or additives).\")\n",
        "        if any(allergen in ingredient for allergen in health_criteria['allergens']):\n",
        "            health_status.append(f\"{ingredient} is a common allergen (e.g., gluten, nuts).\")\n",
        "        if any(healthy in ingredient for healthy in health_criteria['healthy']):\n",
        "            health_status.append(f\"{ingredient} is considered healthy (e.g., rich in vitamins, fiber).\")\n",
        "\n",
        "    if not health_status:\n",
        "        return \"No specific health concerns or benefits identified based on available data.\"\n",
        "    return \"\\n\".join(health_status)\n",
        "\n",
        "def fetch_product_data(barcode):\n",
        "    if barcode:\n",
        "        url = f\"https://world.openfoodfacts.org/api/v0/product/{barcode}.json\"\n",
        "        response = requests.get(url)\n",
        "        if response.status_code == 200:\n",
        "            data = response.json()\n",
        "            if data.get('product'):\n",
        "                product_name = data['product'].get('product_name', 'No name available')\n",
        "                status = data.get('status', 'Unknown')\n",
        "                ingredients = data['product'].get('ingredients_text', 'No ingredients available')\n",
        "                health_evaluation = evaluate_health(ingredients)\n",
        "                print(f\"Product: {product_name} (Status: {status})\")\n",
        "                print(f\"Ingredients: {ingredients}\")\n",
        "                print(\"Health Evaluation:\")\n",
        "                print(health_evaluation)\n",
        "                return data\n",
        "            else:\n",
        "                print(\"Product not found in database.\")\n",
        "                return None\n",
        "        else:\n",
        "            print(f\"Error fetching data: Status code {response.status_code}\")\n",
        "            return None\n",
        "    return None\n",
        "\n",
        "if barcode:\n",
        "    product_data = fetch_product_data(barcode)"
      ],
      "metadata": {
        "colab": {
          "base_uri": "https://localhost:8080/"
        },
        "id": "7Tn-9U7q5VLP",
        "outputId": "475650bf-fb1b-4984-9b89-4aa42b5ac90b"
      },
      "execution_count": null,
      "outputs": [
        {
          "output_type": "stream",
          "name": "stdout",
          "text": [
            "Product: Maggi 2-minutes Noodles (Status: 1)\n",
            "Ingredients: Noodles : Refined wheat flour, Palm oil , salt , Wheat gluten , Thickeners(508 & 412) ,  mineral(calcium carbonate) and Humectant(451(i))\r\n",
            "Taste maker : Hydrolyzed peanut protein ,Mixed spices(23.6%) ,Dehydrated onion , coriander powder , red Chili powder (3%), Turmeric powder , dried Garlic (2.5%), Cumin powder , Aniseed powder , Fenugreek powder , ginger powder , black pepper powder (0.4%), Clove powder(0.1%), green cardamom powder(0.1%), nutmeg powder  , Noodle powder ( refined wheat flour, palm oil ,wheat gluten ,Acid regulators(170(i) , 501(i) & 500(i)) , Thickeners(508 & 412) , Humectant(451(i)) , calcium carbonate, guar gum), starch, garlic powder, caramel salt mix (salt , color(150d), & palm oil)  , acidity regulators(330 & 500(ii)) , Flavour enhancer(635) and mineral ( ferric pyrophosphate)\n",
            "Health Evaluation:\n",
            "salt  may be unhealthy (e.g., high sugar, salt, or additives).\n",
            "wheat gluten  is a common allergen (e.g., gluten, nuts).\n",
            " mineral(calcium carbonate) and humectant(451(i))\r\n",
            "taste maker : hydrolyzed peanut protein ,mixed spices(23.6%) ,dehydrated onion  is considered healthy (e.g., rich in vitamins, fiber).\n",
            "palm oil ,wheat gluten ,acid regulators(170(i)  is a common allergen (e.g., gluten, nuts).\n",
            "caramel salt mix (salt  may be unhealthy (e.g., high sugar, salt, or additives).\n"
          ]
        }
      ]
    }
  ]
}